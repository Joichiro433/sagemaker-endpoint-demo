{
 "cells": [
  {
   "cell_type": "code",
   "execution_count": null,
   "id": "5353bdc4-05cc-4f22-8ce7-1b74669d87e2",
   "metadata": {
    "collapsed": true,
    "jupyter": {
     "outputs_hidden": true
    },
    "tags": []
   },
   "outputs": [],
   "source": [
    "%pip install lightgbm\n",
    "%pip install rich"
   ]
  },
  {
   "cell_type": "code",
   "execution_count": null,
   "id": "9d6e2212-2cee-4125-85a6-e2a783902489",
   "metadata": {
    "tags": []
   },
   "outputs": [],
   "source": [
    "from pathlib import Path\n",
    "import json\n",
    "\n",
    "from rich import print\n",
    "import numpy as np\n",
    "import pandas as pd\n",
    "import sagemaker\n",
    "from sagemaker import Model\n",
    "import tarfile\n",
    "import boto3\n",
    "import lightgbm as lgb"
   ]
  },
  {
   "cell_type": "markdown",
   "id": "7a4222bc-834b-40b5-82d9-ee54b10069fe",
   "metadata": {},
   "source": [
    "## Model Test"
   ]
  },
  {
   "cell_type": "code",
   "execution_count": 3,
   "id": "fde1ff5d-98f8-4e84-9f4a-f5260a98494e",
   "metadata": {
    "tags": []
   },
   "outputs": [
    {
     "data": {
      "text/html": [
       "<div>\n",
       "<style scoped>\n",
       "    .dataframe tbody tr th:only-of-type {\n",
       "        vertical-align: middle;\n",
       "    }\n",
       "\n",
       "    .dataframe tbody tr th {\n",
       "        vertical-align: top;\n",
       "    }\n",
       "\n",
       "    .dataframe thead th {\n",
       "        text-align: right;\n",
       "    }\n",
       "</style>\n",
       "<table border=\"1\" class=\"dataframe\">\n",
       "  <thead>\n",
       "    <tr style=\"text-align: right;\">\n",
       "      <th></th>\n",
       "      <th>bill_length_mm</th>\n",
       "      <th>bill_depth_mm</th>\n",
       "      <th>flipper_length_mm</th>\n",
       "      <th>body_mass_g</th>\n",
       "    </tr>\n",
       "  </thead>\n",
       "  <tbody>\n",
       "    <tr>\n",
       "      <th>0</th>\n",
       "      <td>39.1</td>\n",
       "      <td>18.7</td>\n",
       "      <td>181</td>\n",
       "      <td>3750</td>\n",
       "    </tr>\n",
       "    <tr>\n",
       "      <th>1</th>\n",
       "      <td>46.5</td>\n",
       "      <td>17.9</td>\n",
       "      <td>192</td>\n",
       "      <td>3500</td>\n",
       "    </tr>\n",
       "    <tr>\n",
       "      <th>2</th>\n",
       "      <td>46.1</td>\n",
       "      <td>13.2</td>\n",
       "      <td>211</td>\n",
       "      <td>4500</td>\n",
       "    </tr>\n",
       "  </tbody>\n",
       "</table>\n",
       "</div>"
      ],
      "text/plain": [
       "   bill_length_mm  bill_depth_mm  flipper_length_mm  body_mass_g\n",
       "0            39.1           18.7                181         3750\n",
       "1            46.5           17.9                192         3500\n",
       "2            46.1           13.2                211         4500"
      ]
     },
     "metadata": {},
     "output_type": "display_data"
    },
    {
     "data": {
      "text/html": [
       "<pre style=\"white-space:pre;overflow-x:auto;line-height:normal;font-family:Menlo,'DejaVu Sans Mono',consolas,'Courier New',monospace\"><span style=\"font-weight: bold\">[[</span><span style=\"color: #008080; text-decoration-color: #008080; font-weight: bold\">0.99291988</span> <span style=\"color: #008080; text-decoration-color: #008080; font-weight: bold\">0.00489147</span> <span style=\"color: #008080; text-decoration-color: #008080; font-weight: bold\">0.00218865</span><span style=\"font-weight: bold\">]</span>\n",
       " <span style=\"font-weight: bold\">[</span><span style=\"color: #008080; text-decoration-color: #008080; font-weight: bold\">0.01591752</span> <span style=\"color: #008080; text-decoration-color: #008080; font-weight: bold\">0.97967967</span> <span style=\"color: #008080; text-decoration-color: #008080; font-weight: bold\">0.00440281</span><span style=\"font-weight: bold\">]</span>\n",
       " <span style=\"font-weight: bold\">[</span><span style=\"color: #008080; text-decoration-color: #008080; font-weight: bold\">0.00564193</span> <span style=\"color: #008080; text-decoration-color: #008080; font-weight: bold\">0.00662217</span> <span style=\"color: #008080; text-decoration-color: #008080; font-weight: bold\">0.9877359</span> <span style=\"font-weight: bold\">]]</span>\n",
       "</pre>\n"
      ],
      "text/plain": [
       "\u001b[1m[\u001b[0m\u001b[1m[\u001b[0m\u001b[1;36m0.99291988\u001b[0m \u001b[1;36m0.00489147\u001b[0m \u001b[1;36m0.00218865\u001b[0m\u001b[1m]\u001b[0m\n",
       " \u001b[1m[\u001b[0m\u001b[1;36m0.01591752\u001b[0m \u001b[1;36m0.97967967\u001b[0m \u001b[1;36m0.00440281\u001b[0m\u001b[1m]\u001b[0m\n",
       " \u001b[1m[\u001b[0m\u001b[1;36m0.00564193\u001b[0m \u001b[1;36m0.00662217\u001b[0m \u001b[1;36m0.9877359\u001b[0m \u001b[1m]\u001b[0m\u001b[1m]\u001b[0m\n"
      ]
     },
     "metadata": {},
     "output_type": "display_data"
    }
   ],
   "source": [
    "model = lgb.Booster(model_file='model.lgb')\n",
    "\n",
    "instances = [\n",
    "  {\n",
    "    \"bill_length_mm\": 39.1,\n",
    "    \"bill_depth_mm\": 18.7,\n",
    "    \"flipper_length_mm\": 181,\n",
    "    \"body_mass_g\": 3750\n",
    "  },\n",
    "  {\n",
    "    \"bill_length_mm\": 46.5,\n",
    "    \"bill_depth_mm\": 17.9,\n",
    "    \"flipper_length_mm\": 192,\n",
    "    \"body_mass_g\": 3500\n",
    "  },\n",
    "  {\n",
    "    \"bill_length_mm\": 46.1,\n",
    "    \"bill_depth_mm\": 13.2,\n",
    "    \"flipper_length_mm\": 211,\n",
    "    \"body_mass_g\": 4500\n",
    "  }\n",
    "]\n",
    "\n",
    "df = pd.DataFrame(instances)\n",
    "display(df)\n",
    "\n",
    "preds = model.predict(df)\n",
    "print(preds)\n"
   ]
  },
  {
   "cell_type": "markdown",
   "id": "9d528272-e072-4ce8-95cb-e640046f27fa",
   "metadata": {},
   "source": [
    "## モデルをS3にアップロード"
   ]
  },
  {
   "cell_type": "code",
   "execution_count": 4,
   "id": "e64efaa2-17c6-43a6-8bc1-dc4b6e483235",
   "metadata": {
    "tags": []
   },
   "outputs": [],
   "source": [
    "with tarfile.open('model.tar.gz', 'w:gz') as f:\n",
    "    f.add('model.lgb')"
   ]
  },
  {
   "cell_type": "code",
   "execution_count": null,
   "id": "11541966-1469-47a3-bd98-af273a02afa2",
   "metadata": {
    "tags": []
   },
   "outputs": [],
   "source": [
    "!aws s3 cp model.tar.gz {Specify the S3_URI here}"
   ]
  },
  {
   "cell_type": "markdown",
   "id": "fee96d80-d229-4ac0-b820-f59574ed5464",
   "metadata": {},
   "source": [
    "## ECRにコンテナをアップロード"
   ]
  },
  {
   "cell_type": "code",
   "execution_count": 6,
   "id": "2d6a03f4-7ea8-491f-aa13-167a1ca1a1ff",
   "metadata": {
    "tags": []
   },
   "outputs": [],
   "source": [
    "account_id = boto3.client('sts').get_caller_identity().get('Account')\n",
    "region = boto3.session.Session().region_name\n",
    "ecr_repository = 'sagemaker/lightgbm'\n",
    "image_tag = 'latest'\n",
    "image_uri = f'{account_id}.dkr.ecr.{region}.amazonaws.com/{ecr_repository}:{image_tag}'"
   ]
  },
  {
   "cell_type": "code",
   "execution_count": null,
   "id": "3590cfa5-b4d7-42f9-88fc-45fa78c0d0f1",
   "metadata": {
    "collapsed": true,
    "jupyter": {
     "outputs_hidden": true
    },
    "tags": []
   },
   "outputs": [],
   "source": [
    "!$(aws ecr get-login --region $region --registry-ids $account_id --no-include-email)\n",
    "\n",
    "# ECRリポジトリの作成\n",
    "!aws ecr create-repository --repository-name $ecr_repository\n",
    "\n",
    "# コンテナイメージビルド\n",
    "!docker build -t $image_uri .\n",
    "\n",
    "# ECRにpush\n",
    "!docker push $image_uri"
   ]
  },
  {
   "cell_type": "markdown",
   "id": "90e33009-322e-40a6-933c-27664e7ebefb",
   "metadata": {},
   "source": [
    "## SageMaker にデプロイ\n",
    "\n",
    "instance type:\n",
    "ml.r7i.48xlarge, ml.trn1.32xlarge, ml.r5d.12xlarge, ml.r5.12xlarge, ml.p2.xlarge, ml.m5.4xlarge, ml.m4.16xlarge, ml.r7i.16xlarge, ml.m7i.xlarge, ml.p5.48xlarge, ml.r6gd.xlarge, ml.r6g.8xlarge, ml.r6g.large, ml.m6gd.16xlarge, ml.r5d.24xlarge, ml.r5.24xlarge, ml.r7i.8xlarge, ml.r7i.large, ml.m7i.12xlarge, ml.r6gd.12xlarge, ml.r6g.16xlarge, ml.m6gd.8xlarge, ml.m6gd.large, ml.m6g.xlarge, ml.p4d.24xlarge, ml.m7i.24xlarge, ml.m6g.12xlarge, ml.g5.2xlarge, ml.p3.16xlarge, ml.m5d.xlarge, ml.m5.large, ml.t2.xlarge, ml.m7i.48xlarge, ml.p2.16xlarge, ml.m5d.12xlarge, ml.m7i.16xlarge, ml.r6gd.16xlarge, ml.c6gd.2xlarge, ml.g5.4xlarge, ml.inf1.2xlarge, ml.m5d.24xlarge, ml.m6g.16xlarge, ml.c4.2xlarge, ml.c6gn.xlarge, ml.c6gd.4xlarge, ml.c5.2xlarge, ml.c6gn.12xlarge, ml.c6i.32xlarge, ml.c4.4xlarge, ml.g5.8xlarge, ml.c6i.xlarge, ml.inf1.6xlarge, ml.c5d.2xlarge, ml.c5.4xlarge, ml.c7i.xlarge, ml.c7g.2xlarge, ml.c6i.12xlarge, ml.g4dn.xlarge, ml.c7i.12xlarge, ml.c6gd.8xlarge, ml.c6gd.large, ml.c6g.2xlarge, ml.c6g.xlarge, ml.c6i.24xlarge, ml.g4dn.12xlarge, ml.c5d.4xlarge, ml.c7i.24xlarge, ml.c7i.2xlarge, ml.inf2.8xlarge, ml.c6gn.16xlarge, ml.c6g.12xlarge, ml.c7g.4xlarge, ml.c7g.xlarge, ml.g4dn.2xlarge, ml.c4.8xlarge, ml.c4.large, ml.c6g.4xlarge, ml.c7g.12xlarge, ml.c6i.2xlarge, ml.c5d.xlarge, ml.c5.large, ml.c7i.48xlarge, ml.c7i.4xlarge, ml.c6i.16xlarge, ml.g4dn.4xlarge, ml.c5.9xlarge, ml.c7i.16xlarge, ml.c6gn.2xlarge, ml.c6i.4xlarge, ml.g4dn.16xlarge, ml.c5d.large, ml.c5.xlarge, ml.inf2.xlarge, ml.c6g.16xlarge, ml.c7g.8xlarge, ml.c7g.large, ml.c5d.9xlarge, ml.c4.xlarge, ml.trn1n.32xlarge, ml.c6gn.4xlarge, ml.c6gd.xlarge, ml.c6g.8xlarge, ml.c6g.large, ml.c7g.16xlarge, ml.inf1.xlarge, ml.c7i.8xlarge, ml.c7i.large, ml.inf2.24xlarge, ml.c6gd.12xlarge, ml.g4dn.8xlarge, ml.g5.xlarge, ml.c6i.8xlarge, ml.c6i.large, ml.inf1.24xlarge, ml.m5d.2xlarge, ml.t2.2xlarge, ml.inf2.48xlarge, ml.g5.12xlarge, ml.c5d.18xlarge, ml.c6gn.8xlarge, ml.c6gn.large, ml.m6g.2xlarge, ml.g5.24xlarge, ml.m5d.4xlarge, ml.t2.medium, ml.m7i.2xlarge, ml.trn1.2xlarge, ml.r6gd.2xlarge, ml.c6gd.16xlarge, ml.c5.18xlarge, ml.m6g.4xlarge, ml.g5.48xlarge, ml.m7i.4xlarge, ml.r6gd.4xlarge, ml.g5.16xlarge, ml.dl1.24xlarge, ml.r5d.2xlarge, ml.r5.2xlarge, ml.p3.2xlarge, ml.m5d.large, ml.m5.xlarge, ml.m4.10xlarge, ml.t2.large, ml.r6g.2xlarge, ml.r5d.4xlarge, ml.r5.4xlarge, ml.m5.12xlarge, ml.m4.xlarge, ml.r7i.2xlarge, ml.r7i.xlarge, ml.m6gd.2xlarge, ml.m6gd.xlarge, ml.m6g.8xlarge, ml.m6g.large, ml.m5.24xlarge, ml.r7i.12xlarge, ml.m7i.8xlarge, ml.m7i.large, ml.r6gd.8xlarge, ml.r6gd.large, ml.r6g.4xlarge, ml.r6g.xlarge, ml.m6gd.12xlarge, ml.m4.2xlarge, ml.r7i.24xlarge, ml.r7i.4xlarge, ml.r6g.12xlarge, ml.m6gd.4xlarge, ml.p2.8xlarge, ml.m5.2xlarge, ml.p4de.24xlarge, ml.r5d.xlarge, ml.r5d.large, ml.r5.xlarge, ml.r5.large, ml.p3.8xlarge, ml.m4.4xlarge"
   ]
  },
  {
   "cell_type": "code",
   "execution_count": 14,
   "id": "18aa4264-ddf9-42c4-a811-aaedd04b7e48",
   "metadata": {
    "tags": []
   },
   "outputs": [
    {
     "name": "stdout",
     "output_type": "stream",
     "text": [
      "---!"
     ]
    }
   ],
   "source": [
    "MODEL_URI = '{Specify the S3_URI here}/model.tar.gz'\n",
    "\n",
    "\n",
    "model = Model(\n",
    "    image_uri=image_uri,\n",
    "    model_data=MODEL_URI,\n",
    "    entry_point='entry_point.py',\n",
    "    source_dir='./code',\n",
    "    role=sagemaker.get_execution_role(),\n",
    "    predictor_cls=sagemaker.predictor.Predictor,\n",
    ")\n",
    "predictor = model.deploy(initial_instance_count=1, instance_type='ml.m5.large')\n"
   ]
  },
  {
   "cell_type": "markdown",
   "id": "1fe88257-01a4-4824-a945-6e43804df8ab",
   "metadata": {},
   "source": [
    "## エンドポイントのテスト"
   ]
  },
  {
   "cell_type": "code",
   "execution_count": 15,
   "id": "876dfcf4-d34a-47a8-8fab-8d3da3dca783",
   "metadata": {
    "tags": []
   },
   "outputs": [
    {
     "data": {
      "text/html": [
       "<pre style=\"white-space:pre;overflow-x:auto;line-height:normal;font-family:Menlo,'DejaVu Sans Mono',consolas,'Courier New',monospace\"><span style=\"font-weight: bold\">[[</span><span style=\"color: #008080; text-decoration-color: #008080; font-weight: bold\">0.9929198838092113</span>, <span style=\"color: #008080; text-decoration-color: #008080; font-weight: bold\">0.0048914660096075575</span>, <span style=\"color: #008080; text-decoration-color: #008080; font-weight: bold\">0.00218865018118128</span><span style=\"font-weight: bold\">]</span>, <span style=\"font-weight: bold\">[</span><span style=\"color: #008080; text-decoration-color: #008080; font-weight: bold\">0.015917523677293766</span>, <span style=\"color: #008080; text-decoration-color: #008080; font-weight: bold\">0.9796796692112346</span>, \n",
       "<span style=\"color: #008080; text-decoration-color: #008080; font-weight: bold\">0.0044028071114715584</span><span style=\"font-weight: bold\">]</span>, <span style=\"font-weight: bold\">[</span><span style=\"color: #008080; text-decoration-color: #008080; font-weight: bold\">0.005641933018067216</span>, <span style=\"color: #008080; text-decoration-color: #008080; font-weight: bold\">0.006622168832683619</span>, <span style=\"color: #008080; text-decoration-color: #008080; font-weight: bold\">0.9877358981492491</span><span style=\"font-weight: bold\">]]</span>\n",
       "</pre>\n"
      ],
      "text/plain": [
       "\u001b[1m[\u001b[0m\u001b[1m[\u001b[0m\u001b[1;36m0.9929198838092113\u001b[0m, \u001b[1;36m0.0048914660096075575\u001b[0m, \u001b[1;36m0.00218865018118128\u001b[0m\u001b[1m]\u001b[0m, \u001b[1m[\u001b[0m\u001b[1;36m0.015917523677293766\u001b[0m, \u001b[1;36m0.9796796692112346\u001b[0m, \n",
       "\u001b[1;36m0.0044028071114715584\u001b[0m\u001b[1m]\u001b[0m, \u001b[1m[\u001b[0m\u001b[1;36m0.005641933018067216\u001b[0m, \u001b[1;36m0.006622168832683619\u001b[0m, \u001b[1;36m0.9877358981492491\u001b[0m\u001b[1m]\u001b[0m\u001b[1m]\u001b[0m\n"
      ]
     },
     "metadata": {},
     "output_type": "display_data"
    }
   ],
   "source": [
    "# 推論したいデータを準備\n",
    "instances = [\n",
    "  {\n",
    "    \"bill_length_mm\": 39.1,\n",
    "    \"bill_depth_mm\": 18.7,\n",
    "    \"flipper_length_mm\": 181,\n",
    "    \"body_mass_g\": 3750\n",
    "  },\n",
    "  {\n",
    "    \"bill_length_mm\": 46.5,\n",
    "    \"bill_depth_mm\": 17.9,\n",
    "    \"flipper_length_mm\": 192,\n",
    "    \"body_mass_g\": 3500\n",
    "  },\n",
    "  {\n",
    "    \"bill_length_mm\": 46.1,\n",
    "    \"bill_depth_mm\": 13.2,\n",
    "    \"flipper_length_mm\": 211,\n",
    "    \"body_mass_g\": 4500\n",
    "  }\n",
    "]\n",
    "payload = json.dumps(instances)\n",
    "\n",
    "result = predictor.predict(payload, initial_args={'ContentType': 'application/json'})\n",
    "print(result.decode())"
   ]
  },
  {
   "cell_type": "code",
   "execution_count": 16,
   "id": "c672fca8-ef2c-48f3-94b9-66c2e37567c8",
   "metadata": {
    "tags": []
   },
   "outputs": [
    {
     "data": {
      "text/html": [
       "<pre style=\"white-space:pre;overflow-x:auto;line-height:normal;font-family:Menlo,'DejaVu Sans Mono',consolas,'Courier New',monospace\">lightgbm-<span style=\"color: #008080; text-decoration-color: #008080; font-weight: bold\">2024</span>-<span style=\"color: #00ff00; text-decoration-color: #00ff00; font-weight: bold\">03-02-11-02-26-54</span>0\n",
       "</pre>\n"
      ],
      "text/plain": [
       "lightgbm-\u001b[1;36m2024\u001b[0m-\u001b[1;92m03-02-11-02-26-54\u001b[0m0\n"
      ]
     },
     "metadata": {},
     "output_type": "display_data"
    },
    {
     "data": {
      "text/html": [
       "<pre style=\"white-space:pre;overflow-x:auto;line-height:normal;font-family:Menlo,'DejaVu Sans Mono',consolas,'Courier New',monospace\"><span style=\"font-weight: bold\">[</span>\n",
       "    <span style=\"font-weight: bold\">[</span><span style=\"color: #008080; text-decoration-color: #008080; font-weight: bold\">0.9929198838092113</span>, <span style=\"color: #008080; text-decoration-color: #008080; font-weight: bold\">0.0048914660096075575</span>, <span style=\"color: #008080; text-decoration-color: #008080; font-weight: bold\">0.00218865018118128</span><span style=\"font-weight: bold\">]</span>,\n",
       "    <span style=\"font-weight: bold\">[</span><span style=\"color: #008080; text-decoration-color: #008080; font-weight: bold\">0.015917523677293766</span>, <span style=\"color: #008080; text-decoration-color: #008080; font-weight: bold\">0.9796796692112346</span>, <span style=\"color: #008080; text-decoration-color: #008080; font-weight: bold\">0.0044028071114715584</span><span style=\"font-weight: bold\">]</span>,\n",
       "    <span style=\"font-weight: bold\">[</span><span style=\"color: #008080; text-decoration-color: #008080; font-weight: bold\">0.005641933018067216</span>, <span style=\"color: #008080; text-decoration-color: #008080; font-weight: bold\">0.006622168832683619</span>, <span style=\"color: #008080; text-decoration-color: #008080; font-weight: bold\">0.9877358981492491</span><span style=\"font-weight: bold\">]</span>\n",
       "<span style=\"font-weight: bold\">]</span>\n",
       "</pre>\n"
      ],
      "text/plain": [
       "\u001b[1m[\u001b[0m\n",
       "    \u001b[1m[\u001b[0m\u001b[1;36m0.9929198838092113\u001b[0m, \u001b[1;36m0.0048914660096075575\u001b[0m, \u001b[1;36m0.00218865018118128\u001b[0m\u001b[1m]\u001b[0m,\n",
       "    \u001b[1m[\u001b[0m\u001b[1;36m0.015917523677293766\u001b[0m, \u001b[1;36m0.9796796692112346\u001b[0m, \u001b[1;36m0.0044028071114715584\u001b[0m\u001b[1m]\u001b[0m,\n",
       "    \u001b[1m[\u001b[0m\u001b[1;36m0.005641933018067216\u001b[0m, \u001b[1;36m0.006622168832683619\u001b[0m, \u001b[1;36m0.9877358981492491\u001b[0m\u001b[1m]\u001b[0m\n",
       "\u001b[1m]\u001b[0m\n"
      ]
     },
     "metadata": {},
     "output_type": "display_data"
    }
   ],
   "source": [
    "client = boto3.client('sagemaker-runtime')\n",
    "\n",
    "\n",
    "# 推論したいデータを準備\n",
    "instances = [\n",
    "  {\n",
    "    \"bill_length_mm\": 39.1,\n",
    "    \"bill_depth_mm\": 18.7,\n",
    "    \"flipper_length_mm\": 181,\n",
    "    \"body_mass_g\": 3750\n",
    "  },\n",
    "  {\n",
    "    \"bill_length_mm\": 46.5,\n",
    "    \"bill_depth_mm\": 17.9,\n",
    "    \"flipper_length_mm\": 192,\n",
    "    \"body_mass_g\": 3500\n",
    "  },\n",
    "  {\n",
    "    \"bill_length_mm\": 46.1,\n",
    "    \"bill_depth_mm\": 13.2,\n",
    "    \"flipper_length_mm\": 211,\n",
    "    \"body_mass_g\": 4500\n",
    "  }\n",
    "]\n",
    "payload = json.dumps(instances).encode('utf-8')\n",
    "\n",
    "endpoint_name = predictor.endpoint_name\n",
    "print(endpoint_name)\n",
    "\n",
    "# 推論リクエストを送信\n",
    "response = client.invoke_endpoint(\n",
    "    EndpointName=endpoint_name,\n",
    "    Body=payload,\n",
    "    ContentType='application/json',  # コンテンツタイプを指定\n",
    ")\n",
    "\n",
    "# レスポンスから推論結果を取得\n",
    "result = json.loads(response['Body'].read().decode())\n",
    "print(result)\n",
    "\n"
   ]
  },
  {
   "cell_type": "markdown",
   "id": "2ad60bd0-aede-4721-bc6a-79a13177b8a3",
   "metadata": {},
   "source": [
    "## エンドポイントの削除"
   ]
  },
  {
   "cell_type": "code",
   "execution_count": 17,
   "id": "b3e9672f-71b6-46ea-a245-17c6b5589062",
   "metadata": {
    "tags": []
   },
   "outputs": [],
   "source": [
    "client = boto3.client('sagemaker')\n",
    "\n",
    "endpoint_description = client.describe_endpoint(EndpointName=endpoint_name)\n",
    "endpoint_config_name = endpoint_description['EndpointConfigName']\n",
    "endpoint_config_description = client.describe_endpoint_config(EndpointConfigName=endpoint_config_name)\n",
    "model_names = [variant['ModelName'] for variant in endpoint_config_description['ProductionVariants']]\n",
    "\n",
    "# デプロイで作成されたリソースを削除\n",
    "client.delete_endpoint(EndpointName=endpoint_name)\n",
    "client.delete_endpoint_config(EndpointConfigName=endpoint_description['EndpointConfigName'])\n",
    "for model_name in model_names:  # モデル名を取得, エンドポイント設定には複数のモデルを含むことができるため、ProductionVariants をループしてモデル名を取得する\n",
    "    client.delete_model(ModelName=model_name)"
   ]
  },
  {
   "cell_type": "code",
   "execution_count": null,
   "id": "6c26dfdd-c2a0-4723-86f2-7d267e0ca736",
   "metadata": {},
   "outputs": [],
   "source": []
  }
 ],
 "metadata": {
  "kernelspec": {
   "display_name": "conda_python3",
   "language": "python",
   "name": "conda_python3"
  },
  "language_info": {
   "codemirror_mode": {
    "name": "ipython",
    "version": 3
   },
   "file_extension": ".py",
   "mimetype": "text/x-python",
   "name": "python",
   "nbconvert_exporter": "python",
   "pygments_lexer": "ipython3",
   "version": "3.10.13"
  }
 },
 "nbformat": 4,
 "nbformat_minor": 5
}
